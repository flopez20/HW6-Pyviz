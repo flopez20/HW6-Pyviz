{
 "cells": [
  {
   "cell_type": "markdown",
   "metadata": {},
   "source": [
    "# San Francisco Rental Prices Dashboard\n",
    "\n",
    "In this notebook, you will compile the visualizations from the previous analysis into functions that can be used for a Panel dashboard."
   ]
  },
  {
   "cell_type": "code",
   "execution_count": 42,
   "metadata": {},
   "outputs": [],
   "source": [
    "# initial imports\n",
    "import os\n",
    "import pandas as pd\n",
    "import matplotlib.pyplot as plt\n",
    "import hvplot.pandas\n",
    "import panel as pn\n",
    "import plotly.express as px\n",
    "from pathlib import Path\n",
    "from dotenv import load_dotenv\n",
    "\n",
    "# Initialize the Panel Extensions (for Plotly)\n",
    "pn.extension('plotly')"
   ]
  },
  {
   "cell_type": "code",
   "execution_count": 43,
   "metadata": {},
   "outputs": [],
   "source": [
    "# Read the Mapbox API key\n",
    "load_dotenv()\n",
    "mapbox_token = os.getenv(\"MAPBOX_API_KEY\")"
   ]
  },
  {
   "cell_type": "code",
   "execution_count": 44,
   "metadata": {},
   "outputs": [
    {
     "data": {
      "text/plain": [
       "str"
      ]
     },
     "execution_count": 44,
     "metadata": {},
     "output_type": "execute_result"
    }
   ],
   "source": [
    "type(mapbox_token)"
   ]
  },
  {
   "cell_type": "markdown",
   "metadata": {},
   "source": [
    "# Import Data"
   ]
  },
  {
   "cell_type": "code",
   "execution_count": 45,
   "metadata": {},
   "outputs": [],
   "source": [
    "# Import the CSVs to Pandas DataFrames\n",
    "file_path = Path(\"Data/sfo_neighborhoods_census_data.csv\")\n",
    "sfo_data = pd.read_csv(file_path, index_col=\"year\")\n",
    "\n",
    "file_path = Path(\"Data/neighborhoods_coordinates.csv\")\n",
    "df_neighborhood_locations = pd.read_csv(file_path)"
   ]
  },
  {
   "cell_type": "markdown",
   "metadata": {},
   "source": [
    "- - -"
   ]
  },
  {
   "cell_type": "markdown",
   "metadata": {},
   "source": [
    "## Panel Visualizations\n",
    "\n",
    "In this section, you will copy the code for each plot type from your analysis notebook and place it into separate functions that Panel can use to create panes for the dashboard. \n",
    "\n",
    "These functions will convert the plot object to a Panel pane.\n",
    "\n",
    "Be sure to include any DataFrame transformation/manipulation code required along with the plotting code.\n",
    "\n",
    "Return a Panel pane object from each function that can be used to build the dashboard.\n",
    "\n",
    "Note: Remove any `.show()` lines from the code. We want to return the plots instead of showing them. The Panel dashboard will then display the plots."
   ]
  },
  {
   "cell_type": "code",
   "execution_count": 56,
   "metadata": {},
   "outputs": [],
   "source": [
    "def housing_units_per_year():\n",
    "    \"\"\"Housing Units Per Year.\"\"\"\n",
    "    \n",
    "    # YOUR CODE HERE!\n",
    "    housing_units_per_year = sfo_data['housing_units'].groupby(by='year').mean()\n",
    "    \n",
    "    fig_housing_units_per_year = plt.figure()\n",
    "    \n",
    "    housing_units_per_year_plot = housing_units_per_year.plot.bar(title=\"Average Housing Units per Year\",figsize=(12,8), ylim =(372560-4000,384242+4000))\n",
    "    \n",
    "    plt.close(fig_housing_units_per_year)\n",
    "    \n",
    "    return fig_housing_units_per_year"
   ]
  },
  {
   "cell_type": "code",
   "execution_count": 57,
   "metadata": {},
   "outputs": [],
   "source": [
    "def average_gross_rent():\n",
    "    \"\"\"Average Gross Rent in San Francisco Per Year.\"\"\"\n",
    "    \n",
    "    # YOUR CODE HERE!\n",
    "    avg_gross_rent = sfo_data['gross_rent'].groupby(by='year', level=None).mean()\n",
    "    \n",
    "    fig_avg_gross_rent = plt.figure()\n",
    "    \n",
    "    avg_gross_rent_plot = avg_gross_rent.plot.line('year', 'Gross Rent', title = 'Average Gross Rent per Year')\n",
    "    \n",
    "    return  fig_avg_gross_rent"
   ]
  },
  {
   "cell_type": "code",
   "execution_count": 58,
   "metadata": {},
   "outputs": [],
   "source": [
    "def average_sales_price():\n",
    "    \"\"\"Average Sales Price Per Year.\"\"\"\n",
    "    \n",
    "    # YOUR CODE HERE!\n",
    "    avg_sale_price = sfo_data['sale_price_sqr_foot'].groupby(by='year', level=None).mean()\n",
    "    \n",
    "    fig_avg_sale_price = plt.figure()\n",
    "\n",
    "    avg_sale_price_plot = avg_gross_rent.plot.line(title = 'Average Sales Price per Year')\n",
    "    \n",
    "    return  fig_avg_sale_price"
   ]
  },
  {
   "cell_type": "code",
   "execution_count": 59,
   "metadata": {},
   "outputs": [],
   "source": [
    "def average_price_by_neighborhood():\n",
    "    \"\"\"Average Prices by Neighborhood.\"\"\"\n",
    "    \n",
    "    # YOUR CODE HERE!\n",
    "    new_df = sfo_data.groupby(by=['year', 'neighborhood']).mean().reset_index()\n",
    "\n",
    "    fig_average_price_by_neighborhood = plt.figure()\n",
    "    \n",
    "    new_df_plot = new_df.hvplot.line(\n",
    "    x='year',\n",
    "    y='sale_price_sqr_foot',\n",
    "    xlabel= 'Year',\n",
    "    ylabel= 'Price per Sq Ft',\n",
    "    title='Average Price per Sq Ft',\n",
    "    groupby='neighborhood',\n",
    "        ).opts(yformatter='%0f')\n",
    "    \n",
    "    return fig_average_price_by_neighborhood\n",
    "    "
   ]
  },
  {
   "cell_type": "code",
   "execution_count": 60,
   "metadata": {},
   "outputs": [],
   "source": [
    "def top_most_expensive_neighborhoods():\n",
    "    \"\"\"Top 10 Most Expensive Neighborhoods.\"\"\"\n",
    "    \n",
    "    # YOUR CODE HERE!\n",
    "    top_10_expensive_neighborhoods= sfo_data.groupby(by=['neighborhood']).mean()\n",
    "    top_10_expensive_neighborhoods.sort_values(by='sale_price_sqr_foot', ascending=False, inplace=True)\n",
    "    top_10_expensive_neighborhoods = top_10_expensive_neighborhoods.reset_index()\n",
    "    top_10_expensive_neighborhoods = top_10_expensive_neighborhoods.head(10)\n",
    "    \n",
    "    fig_top_10_expensive_neighborhoods = plt.figure()\n",
    "    \n",
    "    top_10_expensive_neighborhoods_plot = top_10_expensive_neighborhoods.hvplot.bar(\n",
    "        x='neighborhood',\n",
    "        y='sale_price_sqr_foot',\n",
    "        title ='Top 10 expensive neighborhoods',\n",
    "        rot=90,\n",
    "        )\n",
    "    \n",
    "    return fig_top_10_expensive_neighborhoods"
   ]
  },
  {
   "cell_type": "code",
   "execution_count": 61,
   "metadata": {},
   "outputs": [],
   "source": [
    "def parallel_coordinates():\n",
    "    \"\"\"Parallel Coordinates Plot.\"\"\"\n",
    "    \n",
    "    # YOUR CODE HERE!\n",
    "    top_10_expensive_neighborhoods= sfo_data.groupby(by=['neighborhood']).mean()\n",
    "    top_10_expensive_neighborhoods.sort_values(by='sale_price_sqr_foot', ascending=False, inplace=True)\n",
    "    top_10_expensive_neighborhoods = top_10_expensive_neighborhoods.reset_index()\n",
    "    top_10_expensive_neighborhoods = top_10_expensive_neighborhoods.head(10)\n",
    "    \n",
    "    parallel_coordinates_plot = px.parallel_coordinates(top_10_expensive_neighborhoods, color='sale_price_sqr_foot')\n",
    "    \n",
    "    return parallel_coordinates_plot"
   ]
  },
  {
   "cell_type": "code",
   "execution_count": 62,
   "metadata": {},
   "outputs": [],
   "source": [
    "def parallel_categories():\n",
    "    \"\"\"Parallel Categories Plot.\"\"\"\n",
    "    \n",
    "    # YOUR CODE HERE!\n",
    "    top_10_expensive_neighborhoods= sfo_data.groupby(by=['neighborhood']).mean()\n",
    "    top_10_expensive_neighborhoods.sort_values(by='sale_price_sqr_foot', ascending=False, inplace=True)\n",
    "    top_10_expensive_neighborhoods = top_10_expensive_neighborhoods.reset_index()\n",
    "    top_10_expensive_neighborhoods = top_10_expensive_neighborhoods.head(10)\n",
    "    \n",
    "    parallel_categories_plot = px.parallel_categories(\n",
    "        top_10_expensive_neighborhoods,\n",
    "        dimensions=['neighborhood', 'sale_price_sqr_foot', 'housing_units', 'gross_rent'],\n",
    "        color='sale_price_sqr_foot',\n",
    "        color_continuous_scale=px.colors.sequential.Inferno)\n",
    "\n",
    "    return parallel_categories_plot"
   ]
  },
  {
   "cell_type": "code",
   "execution_count": 63,
   "metadata": {},
   "outputs": [],
   "source": [
    "def neighborhood_map():\n",
    "    \"\"\"Neighborhood Map\"\"\"\n",
    "    \n",
    "    # YOUR CODE HERE!\n",
    "    file_path = Path(\"Data/neighborhoods_coordinates.csv\")\n",
    "    df_neighborhood_locations = pd.read_csv(file_path)\n",
    "    avg_prices_per_neighborhood = sfo_data.groupby(by=['neighborhood']).mean().reset_index()\n",
    "    avg_prices_neighborhood_locations = pd.concat([avg_prices_per_neighborhood, df_neighborhood_locations], axis='columns', join = 'inner')\n",
    "\n",
    "    px.set_mapbox_access_token(mapbox_token)\n",
    "    \n",
    "    neighborhood_map = px.scatter_mapbox(\n",
    "    avg_prices_neighborhood_locations,\n",
    "    lat='Lat',\n",
    "    lon='Lon',\n",
    "    color_continuous_scale=px.colors.cyclical.Edge,\n",
    "    size='sale_price_sqr_foot',\n",
    "    color='gross_rent',\n",
    "    title='Average Sale Price per Square Foot and Gross Rent in San Francisco'\n",
    ")\n",
    "    \n",
    "    return neighborhood_map"
   ]
  },
  {
   "cell_type": "markdown",
   "metadata": {},
   "source": [
    "## Panel Dashboard\n",
    "\n",
    "In this section, you will combine all of the plots into a single dashboard view using Panel. Be creative with your dashboard design!"
   ]
  },
  {
   "cell_type": "code",
   "execution_count": 114,
   "metadata": {},
   "outputs": [],
   "source": [
    "title = 'San Francisco Housing Rental Analysis'\n",
    "SF_real_estate = pn.Row(pn.Column(title), neighborhood_map())"
   ]
  },
  {
   "cell_type": "code",
   "execution_count": 115,
   "metadata": {},
   "outputs": [],
   "source": [
    "market_trends = housing_units_per_year"
   ]
  },
  {
   "cell_type": "code",
   "execution_count": 116,
   "metadata": {},
   "outputs": [
    {
     "data": {
      "text/plain": [
       "<Figure size 432x288 with 0 Axes>"
      ]
     },
     "metadata": {},
     "output_type": "display_data"
    },
    {
     "data": {
      "text/plain": [
       "<Figure size 432x288 with 0 Axes>"
      ]
     },
     "metadata": {},
     "output_type": "display_data"
    }
   ],
   "source": [
    "neighborhood_analysis = pn.Column(\n",
    "    \"# Top 10 Neighborhoods\", top_most_expensive_neighborhoods(), average_price_by_neighborhood\n",
    "())"
   ]
  },
  {
   "cell_type": "code",
   "execution_count": 117,
   "metadata": {},
   "outputs": [],
   "source": [
    "parallel_column = pn.Column(\"Parellel Coordinates Plot\", parallel_coordinates(), \n",
    "                            parallel_categories())"
   ]
  },
  {
   "cell_type": "code",
   "execution_count": 119,
   "metadata": {},
   "outputs": [],
   "source": [
    "panel = pn.Tabs(\n",
    "    (\"San Francisco Real Estate Advisors\", SF_real_estate),\n",
    "    (\"Top 10 Neighborhoods\", neighborhood_analysis))\n",
    "#     (\"Market Trends\", market_trends)\n",
    "#     (\"Statistical Plots\", parallel_column)\n",
    "# )\n",
    "\n",
    "                "
   ]
  },
  {
   "cell_type": "markdown",
   "metadata": {},
   "source": [
    "## Serve the Panel Dashboard"
   ]
  },
  {
   "cell_type": "code",
   "execution_count": 120,
   "metadata": {},
   "outputs": [
    {
     "data": {
      "application/vnd.holoviews_exec.v0+json": "",
      "text/html": [
       "<div id='1026'>\n",
       "\n",
       "\n",
       "\n",
       "\n",
       "\n",
       "  <div class=\"bk-root\" id=\"460b3a1f-ad61-45a4-a39d-9251e78cf7b6\" data-root-id=\"1026\"></div>\n",
       "</div>\n",
       "<script type=\"application/javascript\">(function(root) {\n",
       "  function embed_document(root) {\n",
       "  var docs_json = {\"ca1d3a51-cf56-4d0b-bed7-c24a099822dd\":{\"roots\":{\"references\":[{\"attributes\":{\"_render_count\":0,\"config\":null,\"data\":[{\"hovertemplate\":\"sale_price_sqr_foot=%{marker.size}<br>Lat=%{lat}<br>Lon=%{lon}<br>gross_rent=%{marker.color}<extra></extra>\",\"legendgroup\":\"\",\"marker\":{\"coloraxis\":\"coloraxis\",\"sizemode\":\"area\",\"sizeref\":2.259983144180161},\"mode\":\"markers\",\"name\":\"\",\"showlegend\":false,\"subplot\":\"mapbox\",\"type\":\"scattermapbox\"}],\"data_sources\":[{\"id\":\"1030\"}],\"layout\":{\"coloraxis\":{\"colorbar\":{\"title\":{\"text\":\"gross_rent\"}},\"colorscale\":[[0.0,\"#313131\"],[0.0625,\"#3d019d\"],[0.125,\"#3810dc\"],[0.1875,\"#2d47f9\"],[0.25,\"#2593ff\"],[0.3125,\"#2adef6\"],[0.375,\"#60fdfa\"],[0.4375,\"#aefdff\"],[0.5,\"#f3f3f1\"],[0.5625,\"#fffda9\"],[0.625,\"#fafd5b\"],[0.6875,\"#f7da29\"],[0.75,\"#ff8e25\"],[0.8125,\"#f8432d\"],[0.875,\"#d90d39\"],[0.9375,\"#97023d\"],[1.0,\"#313131\"]]},\"legend\":{\"itemsizing\":\"constant\",\"tracegroupgap\":0},\"mapbox\":{\"accesstoken\":\"pk.eyJ1IjoiZmxvcGV6MjAiLCJhIjoiY2s5YWppamdzMXJqcjNlbzV0OTViMjZqciJ9.5oz37E-ml_4HkuGpZgS_tQ\",\"center\":{\"lat\":37.76019350684932,\"lon\":-122.43912380821916},\"domain\":{\"x\":[0.0,1.0],\"y\":[0.0,1.0]},\"zoom\":8},\"template\":{\"data\":{\"bar\":[{\"error_x\":{\"color\":\"#2a3f5f\"},\"error_y\":{\"color\":\"#2a3f5f\"},\"marker\":{\"line\":{\"color\":\"#E5ECF6\",\"width\":0.5}},\"type\":\"bar\"}],\"barpolar\":[{\"marker\":{\"line\":{\"color\":\"#E5ECF6\",\"width\":0.5}},\"type\":\"barpolar\"}],\"carpet\":[{\"aaxis\":{\"endlinecolor\":\"#2a3f5f\",\"gridcolor\":\"white\",\"linecolor\":\"white\",\"minorgridcolor\":\"white\",\"startlinecolor\":\"#2a3f5f\"},\"baxis\":{\"endlinecolor\":\"#2a3f5f\",\"gridcolor\":\"white\",\"linecolor\":\"white\",\"minorgridcolor\":\"white\",\"startlinecolor\":\"#2a3f5f\"},\"type\":\"carpet\"}],\"choropleth\":[{\"colorbar\":{\"outlinewidth\":0,\"ticks\":\"\"},\"type\":\"choropleth\"}],\"contour\":[{\"colorbar\":{\"outlinewidth\":0,\"ticks\":\"\"},\"colorscale\":[[0.0,\"#0d0887\"],[0.1111111111111111,\"#46039f\"],[0.2222222222222222,\"#7201a8\"],[0.3333333333333333,\"#9c179e\"],[0.4444444444444444,\"#bd3786\"],[0.5555555555555556,\"#d8576b\"],[0.6666666666666666,\"#ed7953\"],[0.7777777777777778,\"#fb9f3a\"],[0.8888888888888888,\"#fdca26\"],[1.0,\"#f0f921\"]],\"type\":\"contour\"}],\"contourcarpet\":[{\"colorbar\":{\"outlinewidth\":0,\"ticks\":\"\"},\"type\":\"contourcarpet\"}],\"heatmap\":[{\"colorbar\":{\"outlinewidth\":0,\"ticks\":\"\"},\"colorscale\":[[0.0,\"#0d0887\"],[0.1111111111111111,\"#46039f\"],[0.2222222222222222,\"#7201a8\"],[0.3333333333333333,\"#9c179e\"],[0.4444444444444444,\"#bd3786\"],[0.5555555555555556,\"#d8576b\"],[0.6666666666666666,\"#ed7953\"],[0.7777777777777778,\"#fb9f3a\"],[0.8888888888888888,\"#fdca26\"],[1.0,\"#f0f921\"]],\"type\":\"heatmap\"}],\"heatmapgl\":[{\"colorbar\":{\"outlinewidth\":0,\"ticks\":\"\"},\"colorscale\":[[0.0,\"#0d0887\"],[0.1111111111111111,\"#46039f\"],[0.2222222222222222,\"#7201a8\"],[0.3333333333333333,\"#9c179e\"],[0.4444444444444444,\"#bd3786\"],[0.5555555555555556,\"#d8576b\"],[0.6666666666666666,\"#ed7953\"],[0.7777777777777778,\"#fb9f3a\"],[0.8888888888888888,\"#fdca26\"],[1.0,\"#f0f921\"]],\"type\":\"heatmapgl\"}],\"histogram\":[{\"marker\":{\"colorbar\":{\"outlinewidth\":0,\"ticks\":\"\"}},\"type\":\"histogram\"}],\"histogram2d\":[{\"colorbar\":{\"outlinewidth\":0,\"ticks\":\"\"},\"colorscale\":[[0.0,\"#0d0887\"],[0.1111111111111111,\"#46039f\"],[0.2222222222222222,\"#7201a8\"],[0.3333333333333333,\"#9c179e\"],[0.4444444444444444,\"#bd3786\"],[0.5555555555555556,\"#d8576b\"],[0.6666666666666666,\"#ed7953\"],[0.7777777777777778,\"#fb9f3a\"],[0.8888888888888888,\"#fdca26\"],[1.0,\"#f0f921\"]],\"type\":\"histogram2d\"}],\"histogram2dcontour\":[{\"colorbar\":{\"outlinewidth\":0,\"ticks\":\"\"},\"colorscale\":[[0.0,\"#0d0887\"],[0.1111111111111111,\"#46039f\"],[0.2222222222222222,\"#7201a8\"],[0.3333333333333333,\"#9c179e\"],[0.4444444444444444,\"#bd3786\"],[0.5555555555555556,\"#d8576b\"],[0.6666666666666666,\"#ed7953\"],[0.7777777777777778,\"#fb9f3a\"],[0.8888888888888888,\"#fdca26\"],[1.0,\"#f0f921\"]],\"type\":\"histogram2dcontour\"}],\"mesh3d\":[{\"colorbar\":{\"outlinewidth\":0,\"ticks\":\"\"},\"type\":\"mesh3d\"}],\"parcoords\":[{\"line\":{\"colorbar\":{\"outlinewidth\":0,\"ticks\":\"\"}},\"type\":\"parcoords\"}],\"pie\":[{\"automargin\":true,\"type\":\"pie\"}],\"scatter\":[{\"marker\":{\"colorbar\":{\"outlinewidth\":0,\"ticks\":\"\"}},\"type\":\"scatter\"}],\"scatter3d\":[{\"line\":{\"colorbar\":{\"outlinewidth\":0,\"ticks\":\"\"}},\"marker\":{\"colorbar\":{\"outlinewidth\":0,\"ticks\":\"\"}},\"type\":\"scatter3d\"}],\"scattercarpet\":[{\"marker\":{\"colorbar\":{\"outlinewidth\":0,\"ticks\":\"\"}},\"type\":\"scattercarpet\"}],\"scattergeo\":[{\"marker\":{\"colorbar\":{\"outlinewidth\":0,\"ticks\":\"\"}},\"type\":\"scattergeo\"}],\"scattergl\":[{\"marker\":{\"colorbar\":{\"outlinewidth\":0,\"ticks\":\"\"}},\"type\":\"scattergl\"}],\"scattermapbox\":[{\"marker\":{\"colorbar\":{\"outlinewidth\":0,\"ticks\":\"\"}},\"type\":\"scattermapbox\"}],\"scatterpolar\":[{\"marker\":{\"colorbar\":{\"outlinewidth\":0,\"ticks\":\"\"}},\"type\":\"scatterpolar\"}],\"scatterpolargl\":[{\"marker\":{\"colorbar\":{\"outlinewidth\":0,\"ticks\":\"\"}},\"type\":\"scatterpolargl\"}],\"scatterternary\":[{\"marker\":{\"colorbar\":{\"outlinewidth\":0,\"ticks\":\"\"}},\"type\":\"scatterternary\"}],\"surface\":[{\"colorbar\":{\"outlinewidth\":0,\"ticks\":\"\"},\"colorscale\":[[0.0,\"#0d0887\"],[0.1111111111111111,\"#46039f\"],[0.2222222222222222,\"#7201a8\"],[0.3333333333333333,\"#9c179e\"],[0.4444444444444444,\"#bd3786\"],[0.5555555555555556,\"#d8576b\"],[0.6666666666666666,\"#ed7953\"],[0.7777777777777778,\"#fb9f3a\"],[0.8888888888888888,\"#fdca26\"],[1.0,\"#f0f921\"]],\"type\":\"surface\"}],\"table\":[{\"cells\":{\"fill\":{\"color\":\"#EBF0F8\"},\"line\":{\"color\":\"white\"}},\"header\":{\"fill\":{\"color\":\"#C8D4E3\"},\"line\":{\"color\":\"white\"}},\"type\":\"table\"}]},\"layout\":{\"annotationdefaults\":{\"arrowcolor\":\"#2a3f5f\",\"arrowhead\":0,\"arrowwidth\":1},\"coloraxis\":{\"colorbar\":{\"outlinewidth\":0,\"ticks\":\"\"}},\"colorscale\":{\"diverging\":[[0,\"#8e0152\"],[0.1,\"#c51b7d\"],[0.2,\"#de77ae\"],[0.3,\"#f1b6da\"],[0.4,\"#fde0ef\"],[0.5,\"#f7f7f7\"],[0.6,\"#e6f5d0\"],[0.7,\"#b8e186\"],[0.8,\"#7fbc41\"],[0.9,\"#4d9221\"],[1,\"#276419\"]],\"sequential\":[[0.0,\"#0d0887\"],[0.1111111111111111,\"#46039f\"],[0.2222222222222222,\"#7201a8\"],[0.3333333333333333,\"#9c179e\"],[0.4444444444444444,\"#bd3786\"],[0.5555555555555556,\"#d8576b\"],[0.6666666666666666,\"#ed7953\"],[0.7777777777777778,\"#fb9f3a\"],[0.8888888888888888,\"#fdca26\"],[1.0,\"#f0f921\"]],\"sequentialminus\":[[0.0,\"#0d0887\"],[0.1111111111111111,\"#46039f\"],[0.2222222222222222,\"#7201a8\"],[0.3333333333333333,\"#9c179e\"],[0.4444444444444444,\"#bd3786\"],[0.5555555555555556,\"#d8576b\"],[0.6666666666666666,\"#ed7953\"],[0.7777777777777778,\"#fb9f3a\"],[0.8888888888888888,\"#fdca26\"],[1.0,\"#f0f921\"]]},\"colorway\":[\"#636efa\",\"#EF553B\",\"#00cc96\",\"#ab63fa\",\"#FFA15A\",\"#19d3f3\",\"#FF6692\",\"#B6E880\",\"#FF97FF\",\"#FECB52\"],\"font\":{\"color\":\"#2a3f5f\"},\"geo\":{\"bgcolor\":\"white\",\"lakecolor\":\"white\",\"landcolor\":\"#E5ECF6\",\"showlakes\":true,\"showland\":true,\"subunitcolor\":\"white\"},\"hoverlabel\":{\"align\":\"left\"},\"hovermode\":\"closest\",\"mapbox\":{\"style\":\"light\"},\"paper_bgcolor\":\"white\",\"plot_bgcolor\":\"#E5ECF6\",\"polar\":{\"angularaxis\":{\"gridcolor\":\"white\",\"linecolor\":\"white\",\"ticks\":\"\"},\"bgcolor\":\"#E5ECF6\",\"radialaxis\":{\"gridcolor\":\"white\",\"linecolor\":\"white\",\"ticks\":\"\"}},\"scene\":{\"xaxis\":{\"backgroundcolor\":\"#E5ECF6\",\"gridcolor\":\"white\",\"gridwidth\":2,\"linecolor\":\"white\",\"showbackground\":true,\"ticks\":\"\",\"zerolinecolor\":\"white\"},\"yaxis\":{\"backgroundcolor\":\"#E5ECF6\",\"gridcolor\":\"white\",\"gridwidth\":2,\"linecolor\":\"white\",\"showbackground\":true,\"ticks\":\"\",\"zerolinecolor\":\"white\"},\"zaxis\":{\"backgroundcolor\":\"#E5ECF6\",\"gridcolor\":\"white\",\"gridwidth\":2,\"linecolor\":\"white\",\"showbackground\":true,\"ticks\":\"\",\"zerolinecolor\":\"white\"}},\"shapedefaults\":{\"line\":{\"color\":\"#2a3f5f\"}},\"ternary\":{\"aaxis\":{\"gridcolor\":\"white\",\"linecolor\":\"white\",\"ticks\":\"\"},\"baxis\":{\"gridcolor\":\"white\",\"linecolor\":\"white\",\"ticks\":\"\"},\"bgcolor\":\"#E5ECF6\",\"caxis\":{\"gridcolor\":\"white\",\"linecolor\":\"white\",\"ticks\":\"\"}},\"title\":{\"x\":0.05},\"xaxis\":{\"automargin\":true,\"gridcolor\":\"white\",\"linecolor\":\"white\",\"ticks\":\"\",\"title\":{\"standoff\":15},\"zerolinecolor\":\"white\",\"zerolinewidth\":2},\"yaxis\":{\"automargin\":true,\"gridcolor\":\"white\",\"linecolor\":\"white\",\"ticks\":\"\",\"title\":{\"standoff\":15},\"zerolinecolor\":\"white\",\"zerolinewidth\":2}}},\"title\":{\"text\":\"Average Sale Price per Square Foot and Gross Rent in San Francisco\"}},\"margin\":[5,5,5,5],\"name\":\"Plotly02504\",\"viewport_update_throttle\":200},\"id\":\"1031\",\"type\":\"panel.models.plotly.PlotlyPlot\"},{\"attributes\":{\"client_comm_id\":\"2293cee2310e46e7a3dbc3d5548ce4cd\",\"comm_id\":\"b83917b26c644d899f67d2648a415a7c\",\"plot_id\":\"1026\"},\"id\":\"1044\",\"type\":\"panel.models.comm_manager.CommManager\"},{\"attributes\":{\"margin\":[0,0,0,0],\"tabs\":[{\"id\":\"1032\"},{\"id\":\"1037\"}]},\"id\":\"1026\",\"type\":\"Tabs\"},{\"attributes\":{\"height\":288,\"margin\":[5,5,5,5],\"name\":\"Matplotlib02606\",\"text\":\"&lt;img src=&quot;data:image/png;base64,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&quot; width=&quot;432px&quot; height=&quot;288px&quot; alt=&quot;&quot;&gt;&lt;/img&gt;\",\"width\":432},\"id\":\"1035\",\"type\":\"panel.models.markup.HTML\"},{\"attributes\":{},\"id\":\"1038\",\"type\":\"UnionRenderers\"},{\"attributes\":{\"child\":{\"id\":\"1027\"},\"name\":\"Row02506\",\"title\":\"San Francisco Real Estate Advisors\"},\"id\":\"1032\",\"type\":\"Panel\"},{\"attributes\":{\"children\":[{\"id\":\"1034\"},{\"id\":\"1035\"},{\"id\":\"1036\"}],\"margin\":[0,0,0,0],\"name\":\"Column02610\"},\"id\":\"1033\",\"type\":\"Column\"},{\"attributes\":{\"children\":[{\"id\":\"1029\"}],\"margin\":[0,0,0,0],\"name\":\"Column02503\"},\"id\":\"1028\",\"type\":\"Column\"},{\"attributes\":{\"child\":{\"id\":\"1033\"},\"name\":\"Column02610\",\"title\":\"Top 10 Neighborhoods\"},\"id\":\"1037\",\"type\":\"Panel\"},{\"attributes\":{},\"id\":\"1039\",\"type\":\"Selection\"},{\"attributes\":{\"data\":{\"lat\":[{\"__ndarray__\":\"LV+X4T/lQkB1AwXeyeNCQBmto6oJ3kJAvqQxWkfdQkA2cXK/Q91CQDQMHxFT4kJAVvFG5pHjQkCVYHE4899CQPjfSnZs4EJAcQM+P4zkQkDoMF9egOVCQD/G3LWE3EJANnFyv0PdQkCMZ9DQP+VCQMPYQpCD4kJA8WjjiLXgQkC+pDFaR91CQIxn0NA/5UJAjGfQ0D/lQkAMjpJX5+BCQDZxcr9D3UJAe5+qQgPhQkDLoUW28+FCQMuhRbbz4UJA4nX9gt3cQkBIE+8AT9xCQHiXi/hO3EJAxvmbUIjgQkCVYHE4899CQAd7E0Ny4kJAlWBxOPPfQkBxAz4/jORCQIOLFTWY5kJAXW3F/rLjQkDoMF9egOVCQIP6ljld5kJAY7SOqibcQkD430p2bOBCQOAtkKD43UJAf59x4UDkQkCO6QlLPOBCQDZxcr9D3UJA6DBfXoDlQkD430p2bOBCQApoImx45kJACmgibHjmQkBjtI6qJtxCQD/G3LWE3EJAnDOitDfgQkBmg0wycuJCQJVgcTjz30JA6DBfXoDlQkC+h0uOO91CQJVgcTjz30JAL26jAbzhQkAZraOqCd5CQHb9gt2w3UJAcQM+P4zkQkDoMF9egOVCQBmto6oJ3kJAf59x4UDkQkCMZ9DQP+VCQOAtkKD43UJACmgibHjmQkDIW65+bOBCQIxn0NA/5UJA1XPS+8bjQkC+pDFaR91CQLtE9dbA3kJA6DBfXoDlQkCDL0ymCt5CQOAtkKD43UJA6DBfXoDlQkA=\",\"dtype\":\"float64\",\"shape\":[73]}],\"lon\":[{\"__ndarray__\":\"L26jAbyZXsA5mE2AYZxewPfuj/eqmV7A2dMOf02aXsCKH2PuWpxewLWJk/sdnF7AQspPqn2cXsB9VwT/W59ewC2VtyOcnF7Ad76fGi+dXsAge73745tewEPFOH8TnF7Aih9j7lqcXsAvbqMBvJlewOmf4GJFm17AAyFZwAScXsDZ0w5/TZpewC9uowG8mV7AL26jAbyZXsAkr84xIJ1ewIofY+5anF7AJyzxgLKdXsBPl8XE5ptewE+XxcTmm17ApFNXPsuXXsBmu0IfLJ9ewDY3picsn17AzOmymNiaXsB9VwT/W59ewEjdzr7ynl7AWoEhq1ufXsB3vp8aL51ewIjvxKwXnV7APz+MEB6dXsAge73745tewBU1mIbhnV7Aj+TyH9KdXsAtlbcjnJxewGmR7Xw/nV7AHcnlP6SZXsC6ZvLNNptewIofY+5anF7AIHu9++ObXsAtlbcjnJxewKuy74rgmV7Aq7LviuCZXsCP5PIf0p1ewEPFOH8TnF7ABoGVQ4ucXsDp1JXP8p5ewH1XBP9bn17AIHu9++ObXsDHM2jon55ewH1XBP9bn17A7MA5I0qdXsD37o/3qplewDehEAGHmF7Ad76fGi+dXsAge73745tewPfuj/eqmV7AHcnlP6SZXsAvbqMBvJlewGmR7Xw/nV7Aq7LviuCZXsBF14UfnJxewC9uowG8mV7AAkht4uSaXsDZ0w5/TZpewC9RvTWwnV7AIHu9++ObXsD/Qo8YPZ1ewGmR7Xw/nV7AVFxV9l2ZXsA=\",\"dtype\":\"float64\",\"shape\":[73]}],\"marker.color\":[{\"__ndarray__\":\"SZIkSZICpkCrqqqqqq+nQM3MzMzMHKJAAAAAAAA2rUCrqqqqqhCoQKuqqqqqFaVASZIkSZICpkBJkiRJkgKmQAAAAAAAlaFAAAAAAABQo0BJkiRJkgKmQKuqqqqqFaVAAAAAAACAn0BJkiRJkgKmQAAAAACAuKVASZIkSZICpkCrqqqqqq+nQEmSJEmSAqZAAAAAAABQo0AAAAAAANabQAAAAAAAp6ZAzczMzMxSpEBJkiRJkgKmQEmSJEmSAqZAAAAAAAByo0AAAAAAAJqjQAAAAAAAIKdASZIkSZICpkAAAAAAADCpQEmSJEmSAqZASZIkSZICpkBJkiRJkgKmQFVVVVVV9qNAVVVVVVX2o0BJkiRJkgKmQEmSJEmSAqZAAAAAAACsqkAAAAAAAK+kQAAAAACA1qBAVVVVVVXPpEBVVVVVVfajQM3MzMzMyqhASZIkSZICpkBJkiRJkgKmQJqZmZmZXadAzczMzMwEpkAAAAAAAASjQAAAAACAZ6dASZIkSZICpkBJkiRJkgKmQEmSJEmSAqZASZIkSZICpkBJkiRJkgKmQFVVVVVV9qNASZIkSZICpkDNzMzMzByiQEmSJEmSAqZASZIkSZICpkBJkiRJkgKmQAAAAAAAkKtAAAAAAABmoEBJkiRJkgKmQAAAAAAAp6ZASZIkSZICpkBJkiRJkgKmQFVVVVVV9qNASZIkSZICpkAAAAAAAJKsQAAAAAAAp6NAVVVVVVX2o0AAAAAAAJWhQAAAAAAA7q5AVVVVVVX2o0A=\",\"dtype\":\"float64\",\"shape\":[73]}],\"marker.size\":[{\"__ndarray__\":\"cJyd1VTgdkAk1Xd7HVZ3QMu7p//VkmlA/m3ou1d2gkCwicLO+AWCQOHeULPjSnxAkyM5JcKmeEDxRHrAAXt6QGAgnA3rc35AdiCNAlBcgkANV25bts+EQC2aqyMR8HJADjYuKt4ve0BAExo283Z4QAT0IiSWaX9Azb8HR/0RhECMIKw8QUx4QEysfO/MdXhARl0VIGF9fEDnKA0RdB10QMn/9wKcfoNAa+R3ASb7g0BCjahYtxh8QECb/9zsPnZABT/1V/9TZUCYt5qCUv52QPmqSlDEDHhAfmgaicfaeECrA3m3FTuAQN85W0+CqXdAyXixJK7aeUCo3p7PEouAQBsbzgZFn3lA1YI2J6jjfUADLzpc59mAQOt1/4D+PYJAfSK5L8KmiEDjM3wxFTSBQFx/3pp8XohAcr9Bp4mxgUC9Hcljpi56QAabwse6W4BAhQqU+EOjfEAzwd8Vi/OAQA1GhppZunlANYyg6lAkf0A0VzbjjqF0QGONxdbeS25ATpTGpG5QfkAuXEiRaZ59QGJw/yeBo3hAFpsVUHKMhUAyVprHuVt3QBQ4ODjDAnVAYJzjcuzFg0CTVGKj0nF0QJrMCuEbsIRAy835O80ahUBvvf+g3QeDQNMptI5cSWVAya3y7v5QhECG4cLhK9KBQP9hf/GLgoBAvQqFeA0khUCLIC7GYFZ9QCUQFDHyP4xAR1RQI2dCeUCgCCJ5dddyQMr0d9XQJ39AXWt0xv44c0BA3+aooa2AQGzQRFqzeIVAg478xK0FgkA=\",\"dtype\":\"float64\",\"shape\":[73]}]},\"selected\":{\"id\":\"1039\"},\"selection_policy\":{\"id\":\"1038\"}},\"id\":\"1030\",\"type\":\"ColumnDataSource\"},{\"attributes\":{\"css_classes\":[\"markdown\"],\"margin\":[5,5,5,5],\"name\":\"Markdown02604\",\"text\":\"&lt;h1&gt;Top 10 Neighborhoods&lt;/h1&gt;\"},\"id\":\"1034\",\"type\":\"panel.models.markup.HTML\"},{\"attributes\":{\"css_classes\":[\"markdown\"],\"margin\":[5,5,5,5],\"name\":\"Markdown02501\",\"text\":\"&lt;p&gt;San Francisco Housing Rental Analysis&lt;/p&gt;\"},\"id\":\"1029\",\"type\":\"panel.models.markup.HTML\"},{\"attributes\":{\"height\":288,\"margin\":[5,5,5,5],\"name\":\"Matplotlib02608\",\"text\":\"&lt;img src=&quot;data:image/png;base64,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&quot; width=&quot;432px&quot; height=&quot;288px&quot; alt=&quot;&quot;&gt;&lt;/img&gt;\",\"width\":432},\"id\":\"1036\",\"type\":\"panel.models.markup.HTML\"},{\"attributes\":{\"children\":[{\"id\":\"1028\"},{\"id\":\"1031\"}],\"margin\":[0,0,0,0],\"name\":\"Row02506\"},\"id\":\"1027\",\"type\":\"Row\"}],\"root_ids\":[\"1026\",\"1044\"]},\"title\":\"Bokeh Application\",\"version\":\"2.0.1\"}};\n",
       "  var render_items = [{\"docid\":\"ca1d3a51-cf56-4d0b-bed7-c24a099822dd\",\"root_ids\":[\"1026\"],\"roots\":{\"1026\":\"460b3a1f-ad61-45a4-a39d-9251e78cf7b6\"}}];\n",
       "  root.Bokeh.embed.embed_items_notebook(docs_json, render_items);\n",
       "  }\n",
       "if (root.Bokeh !== undefined) {\n",
       "    embed_document(root);\n",
       "  } else {\n",
       "    var attempts = 0;\n",
       "    var timer = setInterval(function(root) {\n",
       "      if (root.Bokeh !== undefined) {\n",
       "        clearInterval(timer);\n",
       "        embed_document(root);\n",
       "      } else if (document.readyState == \"complete\") {\n",
       "        attempts++;\n",
       "        if (attempts > 100) {\n",
       "          clearInterval(timer);\n",
       "          console.log(\"Bokeh: ERROR: Unable to run BokehJS code because BokehJS library is missing\");\n",
       "        }\n",
       "      }\n",
       "    }, 10, root)\n",
       "  }\n",
       "})(window);</script>"
      ],
      "text/plain": [
       "Tabs\n",
       "    [0] Row\n",
       "        [0] Column\n",
       "            [0] Markdown(str)\n",
       "        [1] Plotly(Figure)\n",
       "    [1] Column\n",
       "        [0] Markdown(str)\n",
       "        [1] Matplotlib(Figure)\n",
       "        [2] Matplotlib(Figure)"
      ]
     },
     "execution_count": 120,
     "metadata": {
      "application/vnd.holoviews_exec.v0+json": {
       "id": "1026"
      }
     },
     "output_type": "execute_result"
    }
   ],
   "source": [
    "panel.servable()"
   ]
  },
  {
   "cell_type": "code",
   "execution_count": null,
   "metadata": {},
   "outputs": [],
   "source": []
  },
  {
   "cell_type": "code",
   "execution_count": null,
   "metadata": {},
   "outputs": [],
   "source": []
  }
 ],
 "metadata": {
  "file_extension": ".py",
  "kernelspec": {
   "display_name": "Python 3",
   "language": "python",
   "name": "python3"
  },
  "language_info": {
   "codemirror_mode": {
    "name": "ipython",
    "version": 3
   },
   "file_extension": ".py",
   "mimetype": "text/x-python",
   "name": "python",
   "nbconvert_exporter": "python",
   "pygments_lexer": "ipython3",
   "version": "3.7.7"
  },
  "mimetype": "text/x-python",
  "name": "python",
  "npconvert_exporter": "python",
  "pygments_lexer": "ipython3",
  "version": 3
 },
 "nbformat": 4,
 "nbformat_minor": 4
}
